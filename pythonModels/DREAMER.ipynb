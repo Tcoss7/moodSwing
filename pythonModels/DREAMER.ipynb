{
 "cells": [
  {
   "cell_type": "markdown",
   "metadata": {},
   "source": [
    "# DREAMER Dataset"
   ]
  },
  {
   "cell_type": "code",
   "execution_count": 1,
   "metadata": {},
   "outputs": [],
   "source": [
    "import numpy as np\n",
    "import pandas as pd\n",
    "import matplotlib.pyplot as plt\n",
    "import sklearn as sk\n",
    "from scipy.io import loadmat\n",
    "import neurokit2 as nk"
   ]
  },
  {
   "cell_type": "code",
   "execution_count": 12,
   "metadata": {},
   "outputs": [],
   "source": [
    "from sklearn.ensemble import RandomForestClassifier, AdaBoostClassifier\n",
    "from sklearn.model_selection import cross_val_score, ShuffleSplit, train_test_split"
   ]
  },
  {
   "cell_type": "code",
   "execution_count": 2,
   "metadata": {},
   "outputs": [],
   "source": [
    "def preprocessing_and_feature(data):\n",
    "    data_ECG = {}\n",
    "    for participant in range(0,23):\n",
    "        for video in range(0,18):\n",
    "            # load raw baseline and stimuli data for left and right\n",
    "            basl_l=raw['DREAMER'][0,0]['Data'][0,participant]['ECG'][0,0]['baseline'][0,0][video,0][:,0]\n",
    "            stim_l=raw['DREAMER'][0,0]['Data'][0,participant]['ECG'][0,0]['stimuli'][0,0][video,0][:,0]\n",
    "            basl_r=raw['DREAMER'][0,0]['Data'][0,participant]['ECG'][0,0]['baseline'][0,0][video,0][:,1]\n",
    "            stim_r=raw['DREAMER'][0,0]['Data'][0,participant]['ECG'][0,0]['stimuli'][0,0][video,0][:,1]\n",
    "            # process with neurokit\n",
    "            ecg_signals_b_l, info_b_l = nk.ecg_process(basl_l,sampling_rate=256)\n",
    "            ecg_signals_s_l, info_s_l = nk.ecg_process(stim_l,sampling_rate=256)\n",
    "            ecg_signals_b_r, info_b_r = nk.ecg_process(basl_r,sampling_rate=256)\n",
    "            ecg_signals_s_r, info_s_r = nk.ecg_process(stim_r,sampling_rate=256)\n",
    "            # divide stimuli features by baseline features\n",
    "            # would be interesting to compare classification accuracy when we\n",
    "            # don't do this\n",
    "            features_ecg_l=nk.ecg_intervalrelated(ecg_signals_s_l)/nk.ecg_intervalrelated(ecg_signals_b_l)\n",
    "            features_ecg_r=nk.ecg_intervalrelated(ecg_signals_s_r)/nk.ecg_intervalrelated(ecg_signals_b_r)\n",
    "            # average left and right features\n",
    "            # would be interesting to compare classification accuracy when we\n",
    "            # rather include both left and right features\n",
    "            features_ecg=(features_ecg_l+features_ecg_r)/2\n",
    "            if not len(data_ECG):\n",
    "                data_ECG=features_ecg\n",
    "            else:\n",
    "                data_ECG=pd.concat([data_ECG,features_ecg],ignore_index=True)\n",
    "    return data_ECG"
   ]
  },
  {
   "cell_type": "code",
   "execution_count": 2,
   "metadata": {},
   "outputs": [],
   "source": [
    "raw = loadmat(\"data/DREAMER.mat\")"
   ]
  },
  {
   "cell_type": "code",
   "execution_count": null,
   "metadata": {},
   "outputs": [],
   "source": [
    "df_Features = pd.DataFrame()\n",
    "df_Features = preprocessing_and_feature(raw)"
   ]
  },
  {
   "cell_type": "code",
   "execution_count": 4,
   "metadata": {
    "scrolled": true
   },
   "outputs": [
    {
     "data": {
      "text/html": [
       "<div>\n",
       "<style scoped>\n",
       "    .dataframe tbody tr th:only-of-type {\n",
       "        vertical-align: middle;\n",
       "    }\n",
       "\n",
       "    .dataframe tbody tr th {\n",
       "        vertical-align: top;\n",
       "    }\n",
       "\n",
       "    .dataframe thead th {\n",
       "        text-align: right;\n",
       "    }\n",
       "</style>\n",
       "<table border=\"1\" class=\"dataframe\">\n",
       "  <thead>\n",
       "    <tr style=\"text-align: right;\">\n",
       "      <th></th>\n",
       "      <th>ECG_Rate_Mean</th>\n",
       "      <th>HRV_RMSSD</th>\n",
       "      <th>HRV_MeanNN</th>\n",
       "      <th>HRV_SDNN</th>\n",
       "      <th>HRV_SDSD</th>\n",
       "      <th>HRV_CVNN</th>\n",
       "      <th>HRV_CVSD</th>\n",
       "      <th>HRV_MedianNN</th>\n",
       "      <th>HRV_MadNN</th>\n",
       "      <th>HRV_MCVNN</th>\n",
       "      <th>...</th>\n",
       "      <th>HRV_C2d</th>\n",
       "      <th>HRV_C2a</th>\n",
       "      <th>HRV_SD2d</th>\n",
       "      <th>HRV_SD2a</th>\n",
       "      <th>HRV_Cd</th>\n",
       "      <th>HRV_Ca</th>\n",
       "      <th>HRV_SDNNd</th>\n",
       "      <th>HRV_SDNNa</th>\n",
       "      <th>HRV_ApEn</th>\n",
       "      <th>HRV_SampEn</th>\n",
       "    </tr>\n",
       "  </thead>\n",
       "  <tbody>\n",
       "    <tr>\n",
       "      <th>0</th>\n",
       "      <td>1.019350</td>\n",
       "      <td>0.937463</td>\n",
       "      <td>0.980715</td>\n",
       "      <td>0.942895</td>\n",
       "      <td>0.933189</td>\n",
       "      <td>0.961436</td>\n",
       "      <td>0.955897</td>\n",
       "      <td>0.981730</td>\n",
       "      <td>1.000000</td>\n",
       "      <td>1.018617</td>\n",
       "      <td>...</td>\n",
       "      <td>1.006937</td>\n",
       "      <td>0.992211</td>\n",
       "      <td>0.947206</td>\n",
       "      <td>0.940288</td>\n",
       "      <td>1.008489</td>\n",
       "      <td>0.990622</td>\n",
       "      <td>0.946925</td>\n",
       "      <td>0.938547</td>\n",
       "      <td>1.438378</td>\n",
       "      <td>0.858731</td>\n",
       "    </tr>\n",
       "    <tr>\n",
       "      <th>1</th>\n",
       "      <td>0.901911</td>\n",
       "      <td>1.646394</td>\n",
       "      <td>1.108991</td>\n",
       "      <td>1.212197</td>\n",
       "      <td>1.641699</td>\n",
       "      <td>1.093063</td>\n",
       "      <td>1.484588</td>\n",
       "      <td>1.113345</td>\n",
       "      <td>1.104762</td>\n",
       "      <td>0.992243</td>\n",
       "      <td>...</td>\n",
       "      <td>1.024839</td>\n",
       "      <td>0.976554</td>\n",
       "      <td>1.209966</td>\n",
       "      <td>1.181118</td>\n",
       "      <td>1.020996</td>\n",
       "      <td>0.980174</td>\n",
       "      <td>1.228156</td>\n",
       "      <td>1.203344</td>\n",
       "      <td>1.174425</td>\n",
       "      <td>1.351139</td>\n",
       "    </tr>\n",
       "    <tr>\n",
       "      <th>2</th>\n",
       "      <td>1.032777</td>\n",
       "      <td>0.973727</td>\n",
       "      <td>0.967888</td>\n",
       "      <td>1.094067</td>\n",
       "      <td>0.968126</td>\n",
       "      <td>1.130365</td>\n",
       "      <td>1.006033</td>\n",
       "      <td>0.980392</td>\n",
       "      <td>1.111111</td>\n",
       "      <td>1.133333</td>\n",
       "      <td>...</td>\n",
       "      <td>0.778085</td>\n",
       "      <td>1.423316</td>\n",
       "      <td>0.974122</td>\n",
       "      <td>1.317528</td>\n",
       "      <td>0.802029</td>\n",
       "      <td>1.339746</td>\n",
       "      <td>0.976209</td>\n",
       "      <td>1.261751</td>\n",
       "      <td>2.239887</td>\n",
       "      <td>0.853926</td>\n",
       "    </tr>\n",
       "    <tr>\n",
       "      <th>3</th>\n",
       "      <td>0.952182</td>\n",
       "      <td>1.235442</td>\n",
       "      <td>1.049724</td>\n",
       "      <td>1.190338</td>\n",
       "      <td>1.236088</td>\n",
       "      <td>1.133953</td>\n",
       "      <td>1.176921</td>\n",
       "      <td>1.056122</td>\n",
       "      <td>1.142857</td>\n",
       "      <td>1.082126</td>\n",
       "      <td>...</td>\n",
       "      <td>0.861915</td>\n",
       "      <td>1.322482</td>\n",
       "      <td>1.128573</td>\n",
       "      <td>1.396073</td>\n",
       "      <td>0.856808</td>\n",
       "      <td>1.311056</td>\n",
       "      <td>1.126642</td>\n",
       "      <td>1.392277</td>\n",
       "      <td>1.317776</td>\n",
       "      <td>0.804541</td>\n",
       "    </tr>\n",
       "    <tr>\n",
       "      <th>4</th>\n",
       "      <td>1.063239</td>\n",
       "      <td>0.747780</td>\n",
       "      <td>0.942383</td>\n",
       "      <td>0.685394</td>\n",
       "      <td>0.745794</td>\n",
       "      <td>0.727298</td>\n",
       "      <td>0.793499</td>\n",
       "      <td>0.933333</td>\n",
       "      <td>0.786765</td>\n",
       "      <td>0.842962</td>\n",
       "      <td>...</td>\n",
       "      <td>1.035208</td>\n",
       "      <td>0.964293</td>\n",
       "      <td>0.751168</td>\n",
       "      <td>0.724984</td>\n",
       "      <td>1.074476</td>\n",
       "      <td>0.930645</td>\n",
       "      <td>0.766086</td>\n",
       "      <td>0.712975</td>\n",
       "      <td>1.371131</td>\n",
       "      <td>1.301240</td>\n",
       "    </tr>\n",
       "  </tbody>\n",
       "</table>\n",
       "<p>5 rows × 53 columns</p>\n",
       "</div>"
      ],
      "text/plain": [
       "   ECG_Rate_Mean  HRV_RMSSD  HRV_MeanNN  HRV_SDNN  HRV_SDSD  HRV_CVNN  \\\n",
       "0       1.019350   0.937463    0.980715  0.942895  0.933189  0.961436   \n",
       "1       0.901911   1.646394    1.108991  1.212197  1.641699  1.093063   \n",
       "2       1.032777   0.973727    0.967888  1.094067  0.968126  1.130365   \n",
       "3       0.952182   1.235442    1.049724  1.190338  1.236088  1.133953   \n",
       "4       1.063239   0.747780    0.942383  0.685394  0.745794  0.727298   \n",
       "\n",
       "   HRV_CVSD  HRV_MedianNN  HRV_MadNN  HRV_MCVNN  ...   HRV_C2d   HRV_C2a  \\\n",
       "0  0.955897      0.981730   1.000000   1.018617  ...  1.006937  0.992211   \n",
       "1  1.484588      1.113345   1.104762   0.992243  ...  1.024839  0.976554   \n",
       "2  1.006033      0.980392   1.111111   1.133333  ...  0.778085  1.423316   \n",
       "3  1.176921      1.056122   1.142857   1.082126  ...  0.861915  1.322482   \n",
       "4  0.793499      0.933333   0.786765   0.842962  ...  1.035208  0.964293   \n",
       "\n",
       "   HRV_SD2d  HRV_SD2a    HRV_Cd    HRV_Ca  HRV_SDNNd  HRV_SDNNa  HRV_ApEn  \\\n",
       "0  0.947206  0.940288  1.008489  0.990622   0.946925   0.938547  1.438378   \n",
       "1  1.209966  1.181118  1.020996  0.980174   1.228156   1.203344  1.174425   \n",
       "2  0.974122  1.317528  0.802029  1.339746   0.976209   1.261751  2.239887   \n",
       "3  1.128573  1.396073  0.856808  1.311056   1.126642   1.392277  1.317776   \n",
       "4  0.751168  0.724984  1.074476  0.930645   0.766086   0.712975  1.371131   \n",
       "\n",
       "   HRV_SampEn  \n",
       "0    0.858731  \n",
       "1    1.351139  \n",
       "2    0.853926  \n",
       "3    0.804541  \n",
       "4    1.301240  \n",
       "\n",
       "[5 rows x 53 columns]"
      ]
     },
     "execution_count": 4,
     "metadata": {},
     "output_type": "execute_result"
    }
   ],
   "source": [
    "df_Features.head()"
   ]
  },
  {
   "cell_type": "code",
   "execution_count": 32,
   "metadata": {},
   "outputs": [
    {
     "data": {
      "text/plain": [
       "(414,)"
      ]
     },
     "execution_count": 32,
     "metadata": {},
     "output_type": "execute_result"
    }
   ],
   "source": [
    "cleanedDf = df_Features.dropna(axis=1, how='any')\n",
    "cleanedDf.to_csv(\"data/preprocessedDREAMER.csv\", index=False)"
   ]
  },
  {
   "cell_type": "code",
   "execution_count": 7,
   "metadata": {},
   "outputs": [],
   "source": [
    "def Participants_Data(raw):\n",
    "    # Create new dataframe with emotion, participant, and video data\n",
    "    a=np.zeros((23,18,9),dtype=object)\n",
    "    for participant in range(0,23):\n",
    "        for video in range(0,18):\n",
    "            a[participant,video,0]=raw['DREAMER'][0,0]['Data'][0,participant]['Age'][0][0][0]\n",
    "            a[participant,video,1]=raw['DREAMER'][0,0]['Data'][0,participant]['Gender'][0][0][0]\n",
    "            a[participant,video,2]=participant+1\n",
    "            a[participant,video,3]=video+1\n",
    "            a[participant,video,4]=['Searching for Bobby Fischer','D.O.A.', 'The Hangover', 'The Ring', '300',\n",
    "                      'National Lampoon\\'s VanWilder', 'Wall-E', 'Crash', 'My Girl', 'The Fly',\n",
    "                      'Pride and Prejudice', 'Modern Times', 'Remember the Titans', 'Gentlemans Agreement',\n",
    "                      'Psycho', 'The Bourne Identitiy', 'The Shawshank Redemption', 'The Departed'][video]\n",
    "            a[participant,video,5]=['calmness', 'surprise', 'amusement', 'fear', 'excitement', 'disgust',\n",
    "                      'happiness', 'anger', 'sadness', 'disgust', 'calmness', 'amusement',\n",
    "                      'happiness', 'anger', 'fear', 'excitement', 'sadness', 'surprise'][video]\n",
    "            a[participant,video,6]=raw['DREAMER'][0,0]['Data'][0,participant]['ScoreValence'][0,0][video,0].astype(float)\n",
    "            a[participant,video,7]=raw['DREAMER'][0,0]['Data'][0,participant]['ScoreArousal'][0,0][video,0].astype(float)\n",
    "            a[participant,video,8]=raw['DREAMER'][0,0]['Data'][0,participant]['ScoreDominance'][0,0][video,0].astype(float)\n",
    "    b=pd.DataFrame(a.reshape((23*18,a.shape[2])),columns=['Age','Gender','Participant','Video','Video_Name','Target_Emotion','Valence','Arousal','Dominance'])\n",
    "    ## combine feature extraction dataframes with the new dataframe\n",
    "    #all_data=pd.concat([data_EEG,data_ECG,b],axis=1)\n",
    "    return b"
   ]
  },
  {
   "cell_type": "code",
   "execution_count": 8,
   "metadata": {},
   "outputs": [
    {
     "data": {
      "text/html": [
       "<div>\n",
       "<style scoped>\n",
       "    .dataframe tbody tr th:only-of-type {\n",
       "        vertical-align: middle;\n",
       "    }\n",
       "\n",
       "    .dataframe tbody tr th {\n",
       "        vertical-align: top;\n",
       "    }\n",
       "\n",
       "    .dataframe thead th {\n",
       "        text-align: right;\n",
       "    }\n",
       "</style>\n",
       "<table border=\"1\" class=\"dataframe\">\n",
       "  <thead>\n",
       "    <tr style=\"text-align: right;\">\n",
       "      <th></th>\n",
       "      <th>Age</th>\n",
       "      <th>Gender</th>\n",
       "      <th>Participant</th>\n",
       "      <th>Video</th>\n",
       "      <th>Video_Name</th>\n",
       "      <th>Target_Emotion</th>\n",
       "      <th>Valence</th>\n",
       "      <th>Arousal</th>\n",
       "      <th>Dominance</th>\n",
       "    </tr>\n",
       "  </thead>\n",
       "  <tbody>\n",
       "    <tr>\n",
       "      <th>0</th>\n",
       "      <td>22</td>\n",
       "      <td>male</td>\n",
       "      <td>1</td>\n",
       "      <td>1</td>\n",
       "      <td>Searching for Bobby Fischer</td>\n",
       "      <td>calmness</td>\n",
       "      <td>4</td>\n",
       "      <td>3</td>\n",
       "      <td>2</td>\n",
       "    </tr>\n",
       "    <tr>\n",
       "      <th>1</th>\n",
       "      <td>22</td>\n",
       "      <td>male</td>\n",
       "      <td>1</td>\n",
       "      <td>2</td>\n",
       "      <td>D.O.A.</td>\n",
       "      <td>surprise</td>\n",
       "      <td>3</td>\n",
       "      <td>3</td>\n",
       "      <td>1</td>\n",
       "    </tr>\n",
       "    <tr>\n",
       "      <th>2</th>\n",
       "      <td>22</td>\n",
       "      <td>male</td>\n",
       "      <td>1</td>\n",
       "      <td>3</td>\n",
       "      <td>The Hangover</td>\n",
       "      <td>amusement</td>\n",
       "      <td>5</td>\n",
       "      <td>4</td>\n",
       "      <td>4</td>\n",
       "    </tr>\n",
       "    <tr>\n",
       "      <th>3</th>\n",
       "      <td>22</td>\n",
       "      <td>male</td>\n",
       "      <td>1</td>\n",
       "      <td>4</td>\n",
       "      <td>The Ring</td>\n",
       "      <td>fear</td>\n",
       "      <td>4</td>\n",
       "      <td>3</td>\n",
       "      <td>2</td>\n",
       "    </tr>\n",
       "    <tr>\n",
       "      <th>4</th>\n",
       "      <td>22</td>\n",
       "      <td>male</td>\n",
       "      <td>1</td>\n",
       "      <td>5</td>\n",
       "      <td>300</td>\n",
       "      <td>excitement</td>\n",
       "      <td>4</td>\n",
       "      <td>4</td>\n",
       "      <td>4</td>\n",
       "    </tr>\n",
       "  </tbody>\n",
       "</table>\n",
       "</div>"
      ],
      "text/plain": [
       "  Age Gender Participant Video                   Video_Name Target_Emotion  \\\n",
       "0  22   male           1     1  Searching for Bobby Fischer       calmness   \n",
       "1  22   male           1     2                       D.O.A.       surprise   \n",
       "2  22   male           1     3                 The Hangover      amusement   \n",
       "3  22   male           1     4                     The Ring           fear   \n",
       "4  22   male           1     5                          300     excitement   \n",
       "\n",
       "  Valence Arousal Dominance  \n",
       "0       4       3         2  \n",
       "1       3       3         1  \n",
       "2       5       4         4  \n",
       "3       4       3         2  \n",
       "4       4       4         4  "
      ]
     },
     "execution_count": 8,
     "metadata": {},
     "output_type": "execute_result"
    }
   ],
   "source": [
    "df_Participants_Data = Participants_Data(raw)\n",
    "df_Participants_Data.head()"
   ]
  },
  {
   "cell_type": "code",
   "execution_count": 14,
   "metadata": {},
   "outputs": [
    {
     "data": {
      "text/plain": [
       "(414,)"
      ]
     },
     "execution_count": 14,
     "metadata": {},
     "output_type": "execute_result"
    }
   ],
   "source": [
    "labels = df_Participants_Data['Target_Emotion']\n",
    "labels.shape"
   ]
  },
  {
   "cell_type": "code",
   "execution_count": 10,
   "metadata": {},
   "outputs": [],
   "source": [
    "cleanedDf = pd.read_csv(\"data/preprocessedDREAMER.csv\")"
   ]
  },
  {
   "cell_type": "code",
   "execution_count": 13,
   "metadata": {},
   "outputs": [],
   "source": [
    "cvf = ShuffleSplit(n_splits=5, test_size=0.3, random_state=0)"
   ]
  },
  {
   "cell_type": "code",
   "execution_count": 21,
   "metadata": {},
   "outputs": [],
   "source": [
    "rfModel = RandomForestClassifier(n_estimators=1000, random_state=0)\n",
    "score = np.mean(cross_val_score(rfModel, cleanedDf, labels, cv=cvf))"
   ]
  },
  {
   "cell_type": "code",
   "execution_count": 22,
   "metadata": {},
   "outputs": [
    {
     "data": {
      "text/plain": [
       "0.1648"
      ]
     },
     "execution_count": 22,
     "metadata": {},
     "output_type": "execute_result"
    }
   ],
   "source": [
    "score"
   ]
  },
  {
   "cell_type": "code",
   "execution_count": 20,
   "metadata": {},
   "outputs": [
    {
     "data": {
      "text/plain": [
       "(414, 41)"
      ]
     },
     "execution_count": 20,
     "metadata": {},
     "output_type": "execute_result"
    }
   ],
   "source": [
    "cleanedDf.shape"
   ]
  },
  {
   "cell_type": "code",
   "execution_count": null,
   "metadata": {},
   "outputs": [],
   "source": []
  }
 ],
 "metadata": {
  "kernelspec": {
   "display_name": "Python 3",
   "language": "python",
   "name": "python3"
  },
  "language_info": {
   "codemirror_mode": {
    "name": "ipython",
    "version": 3
   },
   "file_extension": ".py",
   "mimetype": "text/x-python",
   "name": "python",
   "nbconvert_exporter": "python",
   "pygments_lexer": "ipython3",
   "version": "3.9.1"
  }
 },
 "nbformat": 4,
 "nbformat_minor": 4
}
